{
 "cells": [
  {
   "cell_type": "code",
   "execution_count": 58,
   "id": "9c0f6995-968d-4586-86e7-71df24224550",
   "metadata": {},
   "outputs": [],
   "source": [
    "import torch\n",
    "import torch.nn as nn\n",
    "\n",
    "import IPython\n",
    "\n",
    "from transformers import AutoTokenizer\n",
    "from transformers.configuration_utils import PretrainedConfig\n",
    "from transformers.models.distilbert.modeling_distilbert import DistilBertPreTrainedModel, DistilBertModel"
   ]
  },
  {
   "cell_type": "code",
   "execution_count": 4,
   "id": "42316d49-7c8e-43d3-9720-3ee869420c2d",
   "metadata": {},
   "outputs": [],
   "source": [
    "class IMBDModel(DistilBertPreTrainedModel):\n",
    "\n",
    "    def __init__(self, config : PretrainedConfig):\n",
    "        super(IMBDModel, self).__init__(config)\n",
    "\n",
    "        self.distilbert = DistilBertModel(config)\n",
    "\n",
    "        # # freeze whole model\n",
    "        # for params in self.distilbert.parameters():\n",
    "        #     params.requires_grad = False\n",
    "\n",
    "        # layers = self.distilbert.transformer.layer\n",
    "        # print(\"Total Layers:\", len(layers))\n",
    "\n",
    "        # # Enable trainable few layers.\n",
    "        # for layer_num in [5]:\n",
    "        #     for params in layers[layer_num].parameters():\n",
    "        #         params.requires_grad = True\n",
    "\n",
    "        self.fc = nn.Linear(config.dim, 1)\n",
    "\n",
    "        self.post_init()\n",
    "\n",
    "    def forward(self, x):\n",
    "\n",
    "        output = self.distilbert(**x)\n",
    "        \n",
    "        pooled_output = output.last_hidden_state[:, 0]\n",
    "\n",
    "        x = self.fc(pooled_output)\n",
    "\n",
    "        return x, output.attentions"
   ]
  },
  {
   "cell_type": "code",
   "execution_count": 5,
   "id": "2e840cab-2d1f-4704-bce8-bff633533a26",
   "metadata": {},
   "outputs": [],
   "source": [
    "infer_path = \"model3/0/fold0_epoch01_loss0.1403_val_loss0.1994_roc_auc0.9779\"\n",
    "\n",
    "pretrained_model = IMBDModel.from_pretrained(infer_path, output_attentions=True)\n",
    "pretrained_model.eval()\n",
    "\n",
    "pretrained_tokenizer = AutoTokenizer.from_pretrained(infer_path)"
   ]
  },
  {
   "cell_type": "code",
   "execution_count": 82,
   "id": "de338760-de18-4140-b2d8-656b0ad7d1ec",
   "metadata": {},
   "outputs": [],
   "source": [
    "def get_attentions(attentions):\n",
    "    # REF: https://github.com/hsm207/bert_attn_viz\n",
    "    \n",
    "    # last layer attentions\n",
    "    layer_layer_att = attentions[-1] # [batch, heads, seq_len, seq_len]\n",
    "    cls_att = layer_layer_att[:,:,0,:] # attentions of [CLS] token\n",
    "    cls_att_mean = cls_att.mean(dim=1) # mean over heads\n",
    "    \n",
    "    cls_att_mean = cls_att_mean[0]\n",
    "    \n",
    "    # min-max scaled because we are using for opicity (0 - 1)\n",
    "    cls_att_mean = (cls_att_mean - cls_att_mean.min()) / (cls_att_mean.max() - cls_att_mean.min())\n",
    "    \n",
    "    return cls_att_mean"
   ]
  },
  {
   "cell_type": "code",
   "execution_count": 83,
   "id": "05d82c1e-4828-4de2-a3fe-96950e53f1cc",
   "metadata": {},
   "outputs": [],
   "source": [
    "def prediction(text):\n",
    "    \n",
    "    tokens = pretrained_tokenizer(text, truncation=True, max_length=512)\n",
    "    tokens = {k:torch.tensor([v]) for k, v in tokens.items()}\n",
    "    word_tokens= pretrained_tokenizer.convert_ids_to_tokens(tokens['input_ids'][0])\n",
    "    \n",
    "    scores, attentions = pretrained_model(tokens)\n",
    "    scores = torch.sigmoid(scores)\n",
    "    \n",
    "    return scores, word_tokens, attentions"
   ]
  },
  {
   "cell_type": "code",
   "execution_count": 84,
   "id": "90f1dccc-4849-4667-8dbe-dde0499f5611",
   "metadata": {},
   "outputs": [],
   "source": [
    "text = \"\"\"\n",
    "When it comes to ranking the Marvel superhero(live action) films, \n",
    "Iron Man is for me up there with the better ones. It looks fabulous,\n",
    "the whole film is very slickly made with top-notch special \n",
    "effects(which look like time and effort was really put into it),\n",
    "awesome-looking futuristic gadgets and Iron Man's suit will be a\n",
    "guaranteed delight to anybody who is familiar or loves anything to do with the superhero.\n",
    "\"\"\""
   ]
  },
  {
   "cell_type": "code",
   "execution_count": 85,
   "id": "bddf085f-3219-4605-b27e-3a9a8f6ae2e6",
   "metadata": {},
   "outputs": [
    {
     "data": {
      "text/plain": [
       "tensor([[0.9821]], grad_fn=<SigmoidBackward0>)"
      ]
     },
     "execution_count": 85,
     "metadata": {},
     "output_type": "execute_result"
    }
   ],
   "source": [
    "scores, word_tokens, attentions = prediction(text)\n",
    "scores"
   ]
  },
  {
   "cell_type": "code",
   "execution_count": 86,
   "id": "f7b4af95-7097-4fe4-9206-b7c82a0fbed6",
   "metadata": {},
   "outputs": [
    {
     "data": {
      "text/plain": [
       "6"
      ]
     },
     "execution_count": 86,
     "metadata": {},
     "output_type": "execute_result"
    }
   ],
   "source": [
    "len(attentions)"
   ]
  },
  {
   "cell_type": "code",
   "execution_count": 87,
   "id": "b5d331e2-f3a0-44e7-aebb-783d2fdd2640",
   "metadata": {},
   "outputs": [],
   "source": [
    "att_op = get_attentions(attentions)"
   ]
  },
  {
   "cell_type": "code",
   "execution_count": 88,
   "id": "642f82f6-98dd-4009-bff3-5346513973dd",
   "metadata": {},
   "outputs": [
    {
     "data": {
      "text/plain": [
       "torch.Size([91])"
      ]
     },
     "execution_count": 88,
     "metadata": {},
     "output_type": "execute_result"
    }
   ],
   "source": [
    "att_op.shape"
   ]
  },
  {
   "cell_type": "code",
   "execution_count": 89,
   "id": "8bcd72dc-3139-4a06-99d1-af3443c0f751",
   "metadata": {},
   "outputs": [],
   "source": [
    "def wrap_text(word, score):\n",
    "    return f\"<span style='background-color:rgba(0, 0, 255, {score:.2f});padding:2px;'>{word}</span>\""
   ]
  },
  {
   "cell_type": "code",
   "execution_count": 90,
   "id": "d1c2e724-8034-4cda-a088-fcf8776fb895",
   "metadata": {},
   "outputs": [
    {
     "data": {
      "text/html": [
       "<span style='background-color:rgba(0, 0, 255, 0.20);padding:2px;'>[CLS]</span><span style='background-color:rgba(0, 0, 255, 0.02);padding:2px;'>when</span><span style='background-color:rgba(0, 0, 255, 0.03);padding:2px;'>it</span><span style='background-color:rgba(0, 0, 255, 0.01);padding:2px;'>comes</span><span style='background-color:rgba(0, 0, 255, 0.01);padding:2px;'>to</span><span style='background-color:rgba(0, 0, 255, 0.06);padding:2px;'>ranking</span><span style='background-color:rgba(0, 0, 255, 0.01);padding:2px;'>the</span><span style='background-color:rgba(0, 0, 255, 0.02);padding:2px;'>marvel</span><span style='background-color:rgba(0, 0, 255, 0.02);padding:2px;'>superhero</span><span style='background-color:rgba(0, 0, 255, 0.01);padding:2px;'>(</span><span style='background-color:rgba(0, 0, 255, 0.01);padding:2px;'>live</span><span style='background-color:rgba(0, 0, 255, 0.01);padding:2px;'>action</span><span style='background-color:rgba(0, 0, 255, 0.13);padding:2px;'>)</span><span style='background-color:rgba(0, 0, 255, 0.01);padding:2px;'>films</span><span style='background-color:rgba(0, 0, 255, 0.08);padding:2px;'>,</span><span style='background-color:rgba(0, 0, 255, 0.04);padding:2px;'>iron</span><span style='background-color:rgba(0, 0, 255, 0.02);padding:2px;'>man</span><span style='background-color:rgba(0, 0, 255, 0.18);padding:2px;'>is</span><span style='background-color:rgba(0, 0, 255, 0.05);padding:2px;'>for</span><span style='background-color:rgba(0, 0, 255, 0.04);padding:2px;'>me</span><span style='background-color:rgba(0, 0, 255, 0.07);padding:2px;'>up</span><span style='background-color:rgba(0, 0, 255, 0.11);padding:2px;'>there</span><span style='background-color:rgba(0, 0, 255, 0.10);padding:2px;'>with</span><span style='background-color:rgba(0, 0, 255, 0.14);padding:2px;'>the</span><span style='background-color:rgba(0, 0, 255, 0.25);padding:2px;'>better</span><span style='background-color:rgba(0, 0, 255, 0.04);padding:2px;'>ones</span><span style='background-color:rgba(0, 0, 255, 0.33);padding:2px;'>.</span><span style='background-color:rgba(0, 0, 255, 0.24);padding:2px;'>it</span><span style='background-color:rgba(0, 0, 255, 0.42);padding:2px;'>looks</span><span style='background-color:rgba(0, 0, 255, 0.53);padding:2px;'>fabulous</span><span style='background-color:rgba(0, 0, 255, 0.22);padding:2px;'>,</span><span style='background-color:rgba(0, 0, 255, 0.25);padding:2px;'>the</span><span style='background-color:rgba(0, 0, 255, 0.28);padding:2px;'>whole</span><span style='background-color:rgba(0, 0, 255, 0.21);padding:2px;'>film</span><span style='background-color:rgba(0, 0, 255, 0.44);padding:2px;'>is</span><span style='background-color:rgba(0, 0, 255, 0.49);padding:2px;'>very</span><span style='background-color:rgba(0, 0, 255, 1.00);padding:2px;'>slick</span><span style='background-color:rgba(0, 0, 255, 0.29);padding:2px;'>##ly</span><span style='background-color:rgba(0, 0, 255, 0.26);padding:2px;'>made</span><span style='background-color:rgba(0, 0, 255, 0.13);padding:2px;'>with</span><span style='background-color:rgba(0, 0, 255, 0.17);padding:2px;'>top</span><span style='background-color:rgba(0, 0, 255, 0.13);padding:2px;'>-</span><span style='background-color:rgba(0, 0, 255, 0.19);padding:2px;'>notch</span><span style='background-color:rgba(0, 0, 255, 0.06);padding:2px;'>special</span><span style='background-color:rgba(0, 0, 255, 0.09);padding:2px;'>effects</span><span style='background-color:rgba(0, 0, 255, 0.00);padding:2px;'>(</span><span style='background-color:rgba(0, 0, 255, 0.00);padding:2px;'>which</span><span style='background-color:rgba(0, 0, 255, 0.01);padding:2px;'>look</span><span style='background-color:rgba(0, 0, 255, 0.01);padding:2px;'>like</span><span style='background-color:rgba(0, 0, 255, 0.01);padding:2px;'>time</span><span style='background-color:rgba(0, 0, 255, 0.01);padding:2px;'>and</span><span style='background-color:rgba(0, 0, 255, 0.02);padding:2px;'>effort</span><span style='background-color:rgba(0, 0, 255, 0.01);padding:2px;'>was</span><span style='background-color:rgba(0, 0, 255, 0.11);padding:2px;'>really</span><span style='background-color:rgba(0, 0, 255, 0.03);padding:2px;'>put</span><span style='background-color:rgba(0, 0, 255, 0.06);padding:2px;'>into</span><span style='background-color:rgba(0, 0, 255, 0.16);padding:2px;'>it</span><span style='background-color:rgba(0, 0, 255, 0.15);padding:2px;'>)</span><span style='background-color:rgba(0, 0, 255, 0.14);padding:2px;'>,</span><span style='background-color:rgba(0, 0, 255, 0.44);padding:2px;'>awesome</span><span style='background-color:rgba(0, 0, 255, 0.14);padding:2px;'>-</span><span style='background-color:rgba(0, 0, 255, 0.05);padding:2px;'>looking</span><span style='background-color:rgba(0, 0, 255, 0.13);padding:2px;'>futuristic</span><span style='background-color:rgba(0, 0, 255, 0.02);padding:2px;'>ga</span><span style='background-color:rgba(0, 0, 255, 0.03);padding:2px;'>##dgets</span><span style='background-color:rgba(0, 0, 255, 0.14);padding:2px;'>and</span><span style='background-color:rgba(0, 0, 255, 0.03);padding:2px;'>iron</span><span style='background-color:rgba(0, 0, 255, 0.01);padding:2px;'>man</span><span style='background-color:rgba(0, 0, 255, 0.01);padding:2px;'>'</span><span style='background-color:rgba(0, 0, 255, 0.01);padding:2px;'>s</span><span style='background-color:rgba(0, 0, 255, 0.01);padding:2px;'>suit</span><span style='background-color:rgba(0, 0, 255, 0.19);padding:2px;'>will</span><span style='background-color:rgba(0, 0, 255, 0.10);padding:2px;'>be</span><span style='background-color:rgba(0, 0, 255, 0.10);padding:2px;'>a</span><span style='background-color:rgba(0, 0, 255, 0.06);padding:2px;'>guaranteed</span><span style='background-color:rgba(0, 0, 255, 0.06);padding:2px;'>delight</span><span style='background-color:rgba(0, 0, 255, 0.01);padding:2px;'>to</span><span style='background-color:rgba(0, 0, 255, 0.00);padding:2px;'>anybody</span><span style='background-color:rgba(0, 0, 255, 0.00);padding:2px;'>who</span><span style='background-color:rgba(0, 0, 255, 0.00);padding:2px;'>is</span><span style='background-color:rgba(0, 0, 255, 0.00);padding:2px;'>familiar</span><span style='background-color:rgba(0, 0, 255, 0.00);padding:2px;'>or</span><span style='background-color:rgba(0, 0, 255, 0.00);padding:2px;'>loves</span><span style='background-color:rgba(0, 0, 255, 0.00);padding:2px;'>anything</span><span style='background-color:rgba(0, 0, 255, 0.00);padding:2px;'>to</span><span style='background-color:rgba(0, 0, 255, 0.00);padding:2px;'>do</span><span style='background-color:rgba(0, 0, 255, 0.00);padding:2px;'>with</span><span style='background-color:rgba(0, 0, 255, 0.01);padding:2px;'>the</span><span style='background-color:rgba(0, 0, 255, 0.03);padding:2px;'>superhero</span><span style='background-color:rgba(0, 0, 255, 0.28);padding:2px;'>.</span><span style='background-color:rgba(0, 0, 255, 0.18);padding:2px;'>[SEP]</span>"
      ],
      "text/plain": [
       "<IPython.core.display.HTML object>"
      ]
     },
     "metadata": {},
     "output_type": "display_data"
    }
   ],
   "source": [
    "html = \"\".join([wrap_text(w,s) for w,s in zip(word_tokens, att_op)])\n",
    "display(IPython.display.HTML(html))"
   ]
  },
  {
   "cell_type": "code",
   "execution_count": 91,
   "id": "3f95ae01-7fee-4f7b-b366-b19142ea6f32",
   "metadata": {},
   "outputs": [
    {
     "data": {
      "text/plain": [
       "(tensor(1., grad_fn=<MaxBackward1>), tensor(0., grad_fn=<MinBackward1>))"
      ]
     },
     "execution_count": 91,
     "metadata": {},
     "output_type": "execute_result"
    }
   ],
   "source": [
    "att_op.max(), att_op.min()"
   ]
  },
  {
   "cell_type": "code",
   "execution_count": null,
   "id": "705b3675-fc2f-4a8a-9822-e51d7e9fea9a",
   "metadata": {},
   "outputs": [],
   "source": []
  }
 ],
 "metadata": {
  "environment": {
   "kernel": "python3",
   "name": "pytorch-gpu.1-12.m100",
   "type": "gcloud",
   "uri": "gcr.io/deeplearning-platform-release/pytorch-gpu.1-12:m100"
  },
  "kernelspec": {
   "display_name": "Python 3",
   "language": "python",
   "name": "python3"
  },
  "language_info": {
   "codemirror_mode": {
    "name": "ipython",
    "version": 3
   },
   "file_extension": ".py",
   "mimetype": "text/x-python",
   "name": "python",
   "nbconvert_exporter": "python",
   "pygments_lexer": "ipython3",
   "version": "3.7.12"
  }
 },
 "nbformat": 4,
 "nbformat_minor": 5
}
